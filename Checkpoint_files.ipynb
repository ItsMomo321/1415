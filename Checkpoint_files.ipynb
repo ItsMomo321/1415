{
  "nbformat": 4,
  "nbformat_minor": 0,
  "metadata": {
    "colab": {
      "name": "Checkpoint files.ipynb",
      "private_outputs": true,
      "provenance": [],
      "authorship_tag": "ABX9TyNlzNRfQ/RvAfXMMO5Lkpks",
      "include_colab_link": true
    },
    "kernelspec": {
      "name": "python3",
      "display_name": "Python 3"
    },
    "language_info": {
      "name": "python"
    }
  },
  "cells": [
    {
      "cell_type": "markdown",
      "metadata": {
        "id": "view-in-github",
        "colab_type": "text"
      },
      "source": [
        "<a href=\"https://colab.research.google.com/github/ItsMomo321/1415/blob/main/Checkpoint_files.ipynb\" target=\"_parent\"><img src=\"https://colab.research.google.com/assets/colab-badge.svg\" alt=\"Open In Colab\"/></a>"
      ]
    },
    {
      "cell_type": "code",
      "metadata": {
        "id": "OHXTQJWJK2Kw"
      },
      "source": [
        "f = open(\"python.txt\")\n",
        "f.read()"
      ],
      "execution_count": null,
      "outputs": []
    },
    {
      "cell_type": "code",
      "metadata": {
        "id": "Yik_FbmcK9lm"
      },
      "source": [
        "for line in f:\n",
        "       print(line, first = '')"
      ],
      "execution_count": null,
      "outputs": []
    },
    {
      "cell_type": "code",
      "metadata": {
        "id": "vFmaAiG2MVPD"
      },
      "source": [
        "for line in f:\n",
        "       print(line, last = '')"
      ],
      "execution_count": null,
      "outputs": []
    },
    {
      "cell_type": "code",
      "metadata": {
        "id": "QbeLDTKiwjWN"
      },
      "source": [
        "def count_words(filepath):\n",
        "   with open(filepath) as f:\n",
        "       data = f.read()\n",
        "       data.replace(\",\", \" \")\n",
        "       return len(data.split(\" \"))\n",
        "print(count_words(\"python.txt\"))"
      ],
      "execution_count": null,
      "outputs": []
    },
    {
      "cell_type": "code",
      "metadata": {
        "id": "a0jDT1I9wpDQ"
      },
      "source": [
        "file = open(\"python.txt\", \"r\")\n",
        "lines = file. readlines()\n",
        "last_lines = lines[-5:]\n",
        "print(last_lines)"
      ],
      "execution_count": null,
      "outputs": []
    },
    {
      "cell_type": "code",
      "metadata": {
        "id": "tnb6hIhC0o7h"
      },
      "source": [
        "    file= open('python.txt')\n",
        "for i in file:\n",
        "  print(i,end= \" \")"
      ],
      "execution_count": null,
      "outputs": []
    },
    {
      "cell_type": "code",
      "metadata": {
        "id": "v2sVXYvR2YzM"
      },
      "source": [
        "f = open(\"python.txt\",'rt',encoding = 'utf-8')\n",
        "n= int(input(\"entrer le nombre de lignes\"))\n",
        "for i in range(n):\n",
        "    x=f.readline()\n",
        "    print(x)"
      ],
      "execution_count": null,
      "outputs": []
    }
  ]
}