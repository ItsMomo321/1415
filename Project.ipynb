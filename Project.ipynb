{
  "nbformat": 4,
  "nbformat_minor": 0,
  "metadata": {
    "colab": {
      "name": "Project",
      "private_outputs": true,
      "provenance": [],
      "authorship_tag": "ABX9TyPOUI0XlimKuvLZURoxlovZ",
      "include_colab_link": true
    },
    "kernelspec": {
      "name": "python3",
      "display_name": "Python 3"
    },
    "language_info": {
      "name": "python"
    }
  },
  "cells": [
    {
      "cell_type": "markdown",
      "metadata": {
        "id": "view-in-github",
        "colab_type": "text"
      },
      "source": [
        "<a href=\"https://colab.research.google.com/github/ItsMomo321/1415/blob/main/Project.ipynb\" target=\"_parent\"><img src=\"https://colab.research.google.com/assets/colab-badge.svg\" alt=\"Open In Colab\"/></a>"
      ]
    },
    {
      "cell_type": "code",
      "metadata": {
        "id": "6-NoI9x31KSh"
      },
      "source": [
        "nombres = int(input(\"Entrez la quantité de nombres à afficher : \"))\n",
        "\n",
        "a = 0\n",
        "b = 1\n",
        "total = 0\n",
        "\n",
        "print(\"Les {0} premiers nombres de la suite de Fibonacci sont :\".format(nombres), end = \" \")\n",
        "for _ in range(nombres):\n",
        "  print(total, end = \" \")\n",
        "  a = b\n",
        "  b = total\n",
        "  total = a + b"
      ],
      "execution_count": null,
      "outputs": []
    }
  ]
}