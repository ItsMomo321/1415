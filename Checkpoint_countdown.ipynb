{
  "nbformat": 4,
  "nbformat_minor": 0,
  "metadata": {
    "colab": {
      "name": "Checkpoint_countdown.ipynb",
      "private_outputs": true,
      "provenance": [],
      "authorship_tag": "ABX9TyN744C4roYQ0G30FcyyYADq",
      "include_colab_link": true
    },
    "kernelspec": {
      "name": "python3",
      "display_name": "Python 3"
    },
    "language_info": {
      "name": "python"
    }
  },
  "cells": [
    {
      "cell_type": "markdown",
      "metadata": {
        "id": "view-in-github",
        "colab_type": "text"
      },
      "source": [
        "<a href=\"https://colab.research.google.com/github/ItsMomo321/1415/blob/main/Checkpoint_countdown.ipynb\" target=\"_parent\"><img src=\"https://colab.research.google.com/assets/colab-badge.svg\" alt=\"Open In Colab\"/></a>"
      ]
    },
    {
      "cell_type": "code",
      "metadata": {
        "id": "XxZ9H4Upa3Iz"
      },
      "source": [
        "# import the time module\n",
        "import time\n",
        "\n",
        "# define the countdown func.\n",
        "def countdown(t):\n",
        "\t\n",
        "\twhile t:\n",
        "\t\tmins, secs = divmod(t, 60)\n",
        "\t\ttimer = '{:02d}:{:02d}'.format(mins, secs)\n",
        "\t\tprint(timer, end=\"\\r\")\n",
        "\t\ttime.sleep(1)\n",
        "\t\tt -= 1\n",
        "\t\n",
        "\tprint('Fire in the hole!!')\n",
        "\n",
        "\n",
        "# input time in seconds\n",
        "t = input(\"Enter the time in seconds: \")\n",
        "\n",
        "# function call\n",
        "countdown(int(t))"
      ],
      "execution_count": null,
      "outputs": []
    }
  ]
}