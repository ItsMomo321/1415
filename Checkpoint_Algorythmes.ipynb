{
  "nbformat": 4,
  "nbformat_minor": 0,
  "metadata": {
    "colab": {
      "name": "Checkpoint Algorythmes.ipynb",
      "provenance": [],
      "authorship_tag": "ABX9TyMlGwPO7P6ToX96TS0Q24Go",
      "include_colab_link": true
    },
    "kernelspec": {
      "name": "python3",
      "display_name": "Python 3"
    },
    "language_info": {
      "name": "python"
    }
  },
  "cells": [
    {
      "cell_type": "markdown",
      "metadata": {
        "id": "view-in-github",
        "colab_type": "text"
      },
      "source": [
        "<a href=\"https://colab.research.google.com/github/ItsMomo321/1415/blob/main/Checkpoint_Algorythmes.ipynb\" target=\"_parent\"><img src=\"https://colab.research.google.com/assets/colab-badge.svg\" alt=\"Open In Colab\"/></a>"
      ]
    },
    {
      "cell_type": "code",
      "metadata": {
        "colab": {
          "base_uri": "https://localhost:8080/"
        },
        "id": "vg7t8R7aKPt3",
        "outputId": "73dfe40c-0a78-427f-d598-ea77884b5374"
      },
      "source": [
        "def binary_search(item_list,item):\n",
        "\tfirst = 0\n",
        "\tlast = len(item_list)-1\n",
        "\tfound = False\n",
        "\twhile( first<=last and not found):\n",
        "\t\tmid = (first + last)//2\n",
        "\t\tif item_list[mid] == item :\n",
        "\t\t\tfound = True\n",
        "\t\telse:\n",
        "\t\t\tif item < item_list[mid]:\n",
        "\t\t\t\tlast = mid - 1\n",
        "\t\t\telse:\n",
        "\t\t\t\tfirst = mid + 1\t\n",
        "\treturn found\n",
        "\t\n",
        "print(binary_search([1,2,3,5,8], 6))\n",
        "print(binary_search([1,2,3,5,8], 5))"
      ],
      "execution_count": null,
      "outputs": [
        {
          "output_type": "stream",
          "name": "stdout",
          "text": [
            "False\n",
            "True\n"
          ]
        }
      ]
    },
    {
      "cell_type": "code",
      "metadata": {
        "colab": {
          "base_uri": "https://localhost:8080/"
        },
        "id": "v74wJ_kaL2xI",
        "outputId": "405073bc-fc7e-4af7-b59f-d916324caf38"
      },
      "source": [
        "def power(a,b):\n",
        "\tif b==0:\n",
        "\t\treturn 1\n",
        "\telif a==0:\n",
        "\t\treturn 0\n",
        "\telif b==1:\n",
        "\t\treturn a\n",
        "\telse:\n",
        "\t\treturn a*power(a,b-1)\n",
        "\n",
        "print(power(3,4))"
      ],
      "execution_count": null,
      "outputs": [
        {
          "output_type": "stream",
          "name": "stdout",
          "text": [
            "81\n"
          ]
        }
      ]
    },
    {
      "cell_type": "code",
      "metadata": {
        "colab": {
          "base_uri": "https://localhost:8080/"
        },
        "id": "KCRwaz_lL361",
        "outputId": "a27e36ff-4663-4259-8019-ed5810ded4c6"
      },
      "source": [
        "def bubbleSort(nlist):\n",
        "    for passnum in range(len(nlist)-1,0,-1):\n",
        "        for i in range(passnum):\n",
        "            if nlist[i]>nlist[i+1]:\n",
        "                temp = nlist[i]\n",
        "                nlist[i] = nlist[i+1]\n",
        "                nlist[i+1] = temp\n",
        "\n",
        "nlist = [14,46,43,27,57,41,45,21,70]\n",
        "bubbleSort(nlist)\n",
        "print(nlist)"
      ],
      "execution_count": null,
      "outputs": [
        {
          "output_type": "stream",
          "name": "stdout",
          "text": [
            "[14, 21, 27, 41, 43, 45, 46, 57, 70]\n"
          ]
        }
      ]
    },
    {
      "cell_type": "code",
      "metadata": {
        "colab": {
          "base_uri": "https://localhost:8080/"
        },
        "id": "3DcQLKMfL_gx",
        "outputId": "d4456d00-faf0-455b-feeb-0885b69ce439"
      },
      "source": [
        "def mergeSort(nlist):\n",
        "    print(\"Splitting \",nlist)\n",
        "    if len(nlist)>1:\n",
        "        mid = len(nlist)//2\n",
        "        lefthalf = nlist[:mid]\n",
        "        righthalf = nlist[mid:]\n",
        "\n",
        "        mergeSort(lefthalf)\n",
        "        mergeSort(righthalf)\n",
        "        i=j=k=0       \n",
        "        while i < len(lefthalf) and j < len(righthalf):\n",
        "            if lefthalf[i] < righthalf[j]:\n",
        "                nlist[k]=lefthalf[i]\n",
        "                i=i+1\n",
        "            else:\n",
        "                nlist[k]=righthalf[j]\n",
        "                j=j+1\n",
        "            k=k+1\n",
        "\n",
        "        while i < len(lefthalf):\n",
        "            nlist[k]=lefthalf[i]\n",
        "            i=i+1\n",
        "            k=k+1\n",
        "\n",
        "        while j < len(righthalf):\n",
        "            nlist[k]=righthalf[j]\n",
        "            j=j+1\n",
        "            k=k+1\n",
        "    print(\"Merging \",nlist)\n",
        "\n",
        "nlist = [14,46,43,27,57,41,45,21,70]\n",
        "mergeSort(nlist)\n",
        "print(nlist)"
      ],
      "execution_count": null,
      "outputs": [
        {
          "output_type": "stream",
          "name": "stdout",
          "text": [
            "Splitting  [14, 46, 43, 27, 57, 41, 45, 21, 70]\n",
            "Splitting  [14, 46, 43, 27]\n",
            "Splitting  [14, 46]\n",
            "Splitting  [14]\n",
            "Merging  [14]\n",
            "Splitting  [46]\n",
            "Merging  [46]\n",
            "Merging  [14, 46]\n",
            "Splitting  [43, 27]\n",
            "Splitting  [43]\n",
            "Merging  [43]\n",
            "Splitting  [27]\n",
            "Merging  [27]\n",
            "Merging  [27, 43]\n",
            "Merging  [14, 27, 43, 46]\n",
            "Splitting  [57, 41, 45, 21, 70]\n",
            "Splitting  [57, 41]\n",
            "Splitting  [57]\n",
            "Merging  [57]\n",
            "Splitting  [41]\n",
            "Merging  [41]\n",
            "Merging  [41, 57]\n",
            "Splitting  [45, 21, 70]\n",
            "Splitting  [45]\n",
            "Merging  [45]\n",
            "Splitting  [21, 70]\n",
            "Splitting  [21]\n",
            "Merging  [21]\n",
            "Splitting  [70]\n",
            "Merging  [70]\n",
            "Merging  [21, 70]\n",
            "Merging  [21, 45, 70]\n",
            "Merging  [21, 41, 45, 57, 70]\n",
            "Merging  [14, 21, 27, 41, 43, 45, 46, 57, 70]\n",
            "[14, 21, 27, 41, 43, 45, 46, 57, 70]\n"
          ]
        }
      ]
    },
    {
      "cell_type": "code",
      "metadata": {
        "colab": {
          "base_uri": "https://localhost:8080/"
        },
        "id": "55a_JJudMOLu",
        "outputId": "eb3c3fc1-b47f-48a9-d721-b2cb42a0950b"
      },
      "source": [
        "def mergeSort(alist):\n",
        "    print(\"Splitting \",alist)\n",
        "    if len(alist)>1:\n",
        "        mid = len(alist)//2\n",
        "        lefthalf = alist[:mid]\n",
        "        righthalf = alist[mid:]\n",
        "\n",
        "        mergeSort(lefthalf)\n",
        "        mergeSort(righthalf)\n",
        "\n",
        "        i=0\n",
        "        j=0\n",
        "        k=0\n",
        "        while i < len(lefthalf) and j < len(righthalf):\n",
        "            if lefthalf[i] <= righthalf[j]:\n",
        "                alist[k]=lefthalf[i]\n",
        "                i=i+1\n",
        "            else:\n",
        "                alist[k]=righthalf[j]\n",
        "                j=j+1\n",
        "            k=k+1\n",
        "\n",
        "        while i < len(lefthalf):\n",
        "            alist[k]=lefthalf[i]\n",
        "            i=i+1\n",
        "            k=k+1\n",
        "\n",
        "        while j < len(righthalf):\n",
        "            alist[k]=righthalf[j]\n",
        "            j=j+1\n",
        "            k=k+1\n",
        "    print(\"Merging \",alist)\n",
        "\n",
        "alist = [54,26,93,17,77,31,44,55,20]\n",
        "mergeSort(alist)\n",
        "print(alist)"
      ],
      "execution_count": null,
      "outputs": [
        {
          "output_type": "stream",
          "name": "stdout",
          "text": [
            "Splitting  [54, 26, 93, 17, 77, 31, 44, 55, 20]\n",
            "Splitting  [54, 26, 93, 17]\n",
            "Splitting  [54, 26]\n",
            "Splitting  [54]\n",
            "Merging  [54]\n",
            "Splitting  [26]\n",
            "Merging  [26]\n",
            "Merging  [26, 54]\n",
            "Splitting  [93, 17]\n",
            "Splitting  [93]\n",
            "Merging  [93]\n",
            "Splitting  [17]\n",
            "Merging  [17]\n",
            "Merging  [17, 93]\n",
            "Merging  [17, 26, 54, 93]\n",
            "Splitting  [77, 31, 44, 55, 20]\n",
            "Splitting  [77, 31]\n",
            "Splitting  [77]\n",
            "Merging  [77]\n",
            "Splitting  [31]\n",
            "Merging  [31]\n",
            "Merging  [31, 77]\n",
            "Splitting  [44, 55, 20]\n",
            "Splitting  [44]\n",
            "Merging  [44]\n",
            "Splitting  [55, 20]\n",
            "Splitting  [55]\n",
            "Merging  [55]\n",
            "Splitting  [20]\n",
            "Merging  [20]\n",
            "Merging  [20, 55]\n",
            "Merging  [20, 44, 55]\n",
            "Merging  [20, 31, 44, 55, 77]\n",
            "Merging  [17, 20, 26, 31, 44, 54, 55, 77, 93]\n",
            "[17, 20, 26, 31, 44, 54, 55, 77, 93]\n"
          ]
        }
      ]
    }
  ]
}